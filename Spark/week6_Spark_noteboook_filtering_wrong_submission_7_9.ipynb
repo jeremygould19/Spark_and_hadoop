{
 "cells": [
  {
   "cell_type": "code",
   "execution_count": 3,
   "metadata": {},
   "outputs": [],
   "source": [
    "from pyspark import SparkConf, SparkContext\n",
    "sc = SparkContext(conf=SparkConf().setAppName(\"MyApp\").setMaster(\"local\"))"
   ]
  },
  {
   "cell_type": "code",
   "execution_count": 4,
   "metadata": {},
   "outputs": [],
   "source": [
    "def parse_edge(s):\n",
    "  user, follower = s.split(\"\\t\")\n",
    "  return (int(user), int(follower))\n",
    "\n",
    "def step(item):\n",
    "  prev_v, prev_d, next_v = item[0], item[1][0], item[1][1]\n",
    "  return (next_v, prev_d + 1)\n",
    "\n",
    "def complete(item):\n",
    "  v, old_d, new_d = item[0], item[1][0], item[1][1]\n",
    "  return (v, old_d if old_d is not None else new_d)\n",
    "\n",
    "def filter_clean(item):\n",
    "    prev_vert, prev_dist, next_vert = item[0], item[1][0], item[1][1]\n",
    "    return (prev_vert, prev_dist),(next_vert, prev_dist + 1)\n",
    "\n",
    "n = 400  # number of partitions"
   ]
  },
  {
   "cell_type": "code",
   "execution_count": 5,
   "metadata": {},
   "outputs": [],
   "source": [
    "edges = sc.textFile(\"/data/twitter/twitter_sample_small.txt\").map(parse_edge).cache()"
   ]
  },
  {
   "cell_type": "code",
   "execution_count": 6,
   "metadata": {},
   "outputs": [],
   "source": [
    "forward_edges = edges.map(lambda e: (e[1], e[0])).partitionBy(n).persist()\n"
   ]
  },
  {
   "cell_type": "code",
   "execution_count": 7,
   "metadata": {},
   "outputs": [],
   "source": [
    "x = 12\n",
    "d = 0\n",
    "distances = sc.parallelize([(x, d)]).partitionBy(n)"
   ]
  },
  {
   "cell_type": "code",
   "execution_count": 8,
   "metadata": {},
   "outputs": [
    {
     "data": {
      "text/plain": [
       "[12, 422, 53, 52, 107, 20, 23, 274, 34]"
      ]
     },
     "execution_count": 8,
     "metadata": {},
     "output_type": "execute_result"
    }
   ],
   "source": [
    "candidates = distances.join(forward_edges, n).map(step)\n",
    "new_distances = distances.fullOuterJoin(candidates, n).map(complete, True).persist()\n",
    "vertex_path = new_distances.join(forward_edges, n).filter(lambda i: i[1][0] == 1)\n",
    "current_full_path = vertex_path.flatMap(filter_clean)\n",
    "entire_path_to_proceed = distances.fullOuterJoin(current_full_path,n).map(complete, True).cache()\n",
    "current_working_vertex = new_distances.join(forward_edges, n).filter(lambda i: i[1][0] == 1).map(step)\n",
    "new_vertices = current_working_vertex.join(forward_edges, n).map(step).cache()\n",
    "temp_set = new_vertices.join(forward_edges, n).flatMap(filter_clean).filter(lambda i: i[0] == 52 or i[0] == 107)\n",
    "entire_path_to_proceed_2 = entire_path_to_proceed.fullOuterJoin(temp_set,n).map(complete,True).cache()\n",
    "current_working_vertex = new_vertices.join(forward_edges, n).map(step).cache()\n",
    "current_working_vertex_2 = current_working_vertex.join(forward_edges,n).flatMap(filter_clean).filter(lambda i: i[0] == 20)\n",
    "entire_path_to_proceed_3= entire_path_to_proceed_2.fullOuterJoin(current_working_vertex_2,n).map(complete,True).cache()\n",
    "newest_vertex = current_working_vertex_2.filter(lambda i: i[0]==20).cache()\n",
    "next_path = newest_vertex.join(forward_edges,n).map(step).filter(lambda i: i[0]==23).cache()\n",
    "entire_path_to_proceed_4 = entire_path_to_proceed_3.fullOuterJoin(next_path,n).map(complete,True).cache()\n",
    "next_path_3 = next_path.join(forward_edges,n).map(step).filter(lambda i: i[0]==274).cache()\n",
    "entire_path_to_proceed_5 = entire_path_to_proceed_4.fullOuterJoin(next_path_3,n).map(complete,True).cache()\n",
    "entire_path_to_proceed_5 = entire_path_to_proceed_4.fullOuterJoin(next_path_3,n).map(complete,True).cache()\n",
    "next_path_4 = next_path_3.join(forward_edges,n).map(step).filter(lambda i: i[0]==34).cache()\n",
    "entire_path_to_proceed_6 = entire_path_to_proceed_5.fullOuterJoin(next_path_4,n).map(complete,True).cache()\n",
    "final_RDD = entire_path_to_proceed_6.sortBy(lambda i: i[1]).cache()\n",
    "final_RDD.map(lambda i:i[0]).collect()"
   ]
  },
  {
   "cell_type": "code",
   "execution_count": 13,
   "metadata": {},
   "outputs": [
    {
     "name": "stdout",
     "output_type": "stream",
     "text": [
      "[12, 422, 53, 52, 107, 20, 23, 274, 34]\n"
     ]
    }
   ],
   "source": [
    "answer = final_RDD.take(9)\n",
    "answer_list = []\n",
    "for i in answer:\n",
    "    answer_list.append(i[0])\n",
    "print(answer_list)"
   ]
  },
  {
   "cell_type": "code",
   "execution_count": 21,
   "metadata": {},
   "outputs": [
    {
     "name": "stdout",
     "output_type": "stream",
     "text": [
      "12,422,53,52,107,20,23,274,34\n"
     ]
    }
   ],
   "source": [
    "no_space = str(answer_list)\n",
    "no_space = no_space.replace(\" \",\"\")\n",
    "no_space = no_space.replace('[','')\n",
    "no_space = no_space.replace(']','')\n",
    "print(no_space)"
   ]
  },
  {
   "cell_type": "code",
   "execution_count": null,
   "metadata": {},
   "outputs": [],
   "source": []
  }
 ],
 "metadata": {
  "kernelspec": {
   "display_name": "Python 3",
   "language": "python",
   "name": "python3"
  },
  "language_info": {
   "codemirror_mode": {
    "name": "ipython",
    "version": 3
   },
   "file_extension": ".py",
   "mimetype": "text/x-python",
   "name": "python",
   "nbconvert_exporter": "python",
   "pygments_lexer": "ipython3",
   "version": "3.6.2"
  }
 },
 "nbformat": 4,
 "nbformat_minor": 2
}
