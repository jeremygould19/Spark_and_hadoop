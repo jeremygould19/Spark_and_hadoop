{
 "cells": [
  {
   "cell_type": "markdown",
   "metadata": {},
   "source": [
    "In this project, the goal is to use Spark to search through a textfile and  \n",
    "find all the pairs of two consequent words where the first word is “narodnaya”.  \n",
    "Then for each pair, count the number of occurrences in the Wikipedia dump.  \n",
    "Finally, print all the pairs with their count in a lexicographical order. "
   ]
  },
  {
   "cell_type": "markdown",
   "metadata": {},
   "source": [
    "Initialize spark context"
   ]
  },
  {
   "cell_type": "code",
   "execution_count": null,
   "metadata": {
    "collapsed": true
   },
   "outputs": [],
   "source": [
    "from pyspark import SparkConf, SparkContext\n",
    "sc = SparkContext(conf=SparkConf().setAppName(\"MyApp\").setMaster(\"local\"))"
   ]
  },
  {
   "cell_type": "markdown",
   "metadata": {},
   "source": [
    "define parsing funcion and create RDD with 16 partitions;\n",
    "map the parsing funciton to the RDD"
   ]
  },
  {
   "cell_type": "code",
   "execution_count": null,
   "metadata": {
    "collapsed": false
   },
   "outputs": [],
   "source": [
    "import re\n",
    "\n",
    "def parse_article(line):\n",
    "    try:\n",
    "        article_id, text = unicode(line.rstrip()).split('\\t', 1)\n",
    "        text = re.sub(\"^\\W+|\\W+$\", \"\", text, flags=re.UNICODE)\n",
    "        words = re.split(\"\\W*\\s+\\W*\", text, flags=re.UNICODE)\n",
    "        return words\n",
    "    except ValueError as e:\n",
    "        return []\n",
    "\n",
    "wiki = sc.textFile(\"/data/wiki/en_articles_part/articles-part\",16).map(parse_article)"
   ]
  },
  {
   "cell_type": "markdown",
   "metadata": {},
   "source": [
    "filter function returns an RDD with only the lists in the RDD that contain the string 'Narodnaya'\n",
    "or 'narodnaya'"
   ]
  },
  {
   "cell_type": "code",
   "execution_count": null,
   "metadata": {
    "collapsed": true
   },
   "outputs": [],
   "source": [
    "filteredWiki = wiki.filter(lambda x: ('Narodnaya' in x) or ('narodnaya' in x))"
   ]
  },
  {
   "cell_type": "markdown",
   "metadata": {},
   "source": [
    "function to iterate through each list in the RDD and return matches to  \n",
    "(lower case) 'narodnaya' along with the item after the match; then concatenate the items together  \n",
    "with '_'"
   ]
  },
  {
   "cell_type": "code",
   "execution_count": null,
   "metadata": {
    "collapsed": true
   },
   "outputs": [],
   "source": [
    "def indexNarod(item):\n",
    "    final_list = []\n",
    "    for i in range(len(item)):\n",
    "        word = item[i].lower()\n",
    "        if 'narodnaya' in word:\n",
    "            result = item[i]+\"_\"+item[i+1]\n",
    "            final_list.append(result.lower())\n",
    "    return final_list "
   ]
  },
  {
   "cell_type": "markdown",
   "metadata": {},
   "source": [
    "execute the function on the filterWiki RDD with flatMap();  \n",
    "flatMap is used instead of map because map returned an RDD  \n",
    "that was composed of an array of arrays instead of an array of strings;  \n",
    "flatMap here 'flattens' the results "
   ]
  },
  {
   "cell_type": "code",
   "execution_count": null,
   "metadata": {
    "collapsed": true
   },
   "outputs": [],
   "source": [
    "resultWiki = filteredWiki.flatMap(indexNarod)"
   ]
  },
  {
   "cell_type": "markdown",
   "metadata": {},
   "source": [
    "aggregate matching values\n"
   ]
  },
  {
   "cell_type": "code",
   "execution_count": null,
   "metadata": {
    "collapsed": false
   },
   "outputs": [],
   "source": [
    "aggregatedRddWiki = resultWiki.map(lambda x: (x, 1)).reduceByKey(lambda x,y: x+y).collect()"
   ]
  },
  {
   "cell_type": "markdown",
   "metadata": {},
   "source": [
    "print the results; result is already sorted in lexicographical order"
   ]
  },
  {
   "cell_type": "code",
   "execution_count": null,
   "metadata": {
    "collapsed": false
   },
   "outputs": [],
   "source": [
    "for a,b in aggregatedRddWiki:\n",
    "    resultItem = a + '\\t' + str(b)\n",
    "    print resultItem"
   ]
  }
 ],
 "metadata": {
  "kernelspec": {
   "display_name": "Python 3",
   "language": "python",
   "name": "python3"
  },
  "language_info": {
   "codemirror_mode": {
    "name": "ipython",
    "version": 3
   },
   "file_extension": ".py",
   "mimetype": "text/x-python",
   "name": "python",
   "nbconvert_exporter": "python",
   "pygments_lexer": "ipython3",
   "version": "3.6.0"
  }
 },
 "nbformat": 4,
 "nbformat_minor": 2
}
