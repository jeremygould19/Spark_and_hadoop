{
 "cells": [
  {
   "cell_type": "code",
   "execution_count": 1,
   "metadata": {},
   "outputs": [],
   "source": [
    "from pyspark import SparkConf, SparkContext\n",
    "sc = SparkContext(conf=SparkConf().setAppName(\"MyApp\").setMaster(\"local\"))"
   ]
  },
  {
   "cell_type": "code",
   "execution_count": 2,
   "metadata": {},
   "outputs": [
    {
     "name": "stdout",
     "output_type": "stream",
     "text": [
      "12,422,53,52,107,20,23,274,34\n"
     ]
    }
   ],
   "source": [
    "import time\n",
    "import datetime\n",
    "\n",
    "def parse_edge(s):\n",
    "  user, follower = s.split(\"\\t\")\n",
    "  return (int(user), int(follower))\n",
    "\n",
    "\n",
    "def key_replace(item):\n",
    "    new_key, current_path = item[1][1], item[1]\n",
    "    return (new_key,current_path)\n",
    "\n",
    "def join_build(item):\n",
    "    join_key, holder_value = item[0],item[1][0]\n",
    "    return (join_key, holder_value)\n",
    "\n",
    "def new_value(item):\n",
    "    old_key, current_value = item[0],item[1][1]\n",
    "    return (old_key,current_value)\n",
    "\n",
    "def build_path(item):\n",
    "    next_key, path, value = item[1][1], item[1][0], item[1][1]\n",
    "    path = list(path)\n",
    "    if not value in path: #added this line to check for list containment of new connection\n",
    "        path.append(value)\n",
    "        return (next_key,(path))\n",
    "    else:\n",
    "        return (-1,(path))\n",
    "\n",
    "def final_RDD(item):\n",
    "    return(item[1])\n",
    "\n",
    "n = 400  # number of partitions\n",
    "edges = sc.textFile(\"/data/twitter/twitter_sample_small.txt\").map(parse_edge).cache()\n",
    "forward_edges = edges.map(lambda e: (e[1], e[0])).partitionBy(n).persist()\n",
    "\n",
    "x = 12\n",
    "d = 12\n",
    "distances = sc.parallelize([(x, d)]).partitionBy(n)\n",
    "\n",
    "candidates = distances.join(forward_edges, n).cache()\n",
    "new_candidate = candidates.map(key_replace).cache()\n",
    "connection = new_candidate.map(join_build).cache()\n",
    "new_pair = connection.join(forward_edges,n).map(new_value).cache()\n",
    "merged_path_value = new_candidate.join(new_pair,n).cache()\n",
    "new_full_key_and_path = merged_path_value.map(build_path).cache()\n",
    "\n",
    "a = 1\n",
    "\n",
    "while True:\n",
    "#    start_ts = time.time()\n",
    "#    start = datetime.datetime.fromtimestamp(start_ts).strftime('%Y-%m-%d %H:%M:%S')\n",
    "#    print(\"Iteration number:\",a,\" starting at\",start,\"\\n\")\n",
    "    connection = new_full_key_and_path.map(join_build).cache()\n",
    "#    print(\"new connection:\", connection.collect(),\"\\n\")\n",
    "    new_pair = connection.join(forward_edges,n).map(new_value).cache()\n",
    "#    print(\"new new_pair:\", new_pair.collect(),\"\\n\")\n",
    "    new_full_key_and_path_2 = new_full_key_and_path.join(new_pair,n).cache()\n",
    "#    print(\"new temp path:\", new_full_key_and_path_2.collect(),\"\\n\")\n",
    "    new_full_key_and_path = new_full_key_and_path_2.map(build_path).cache()\n",
    "#    print(\"next temp path:\",new_full_key_and_path.collect(),\"\\n\")\n",
    "#    stop_ts = time.time()\n",
    "#    stop = datetime.datetime.fromtimestamp(stop_ts).strftime('%Y-%m-%d %H:%M:%S')\n",
    "#    print(\"Iteration finished at\", stop,\"\\n\")\n",
    "    a += 1\n",
    "    if not new_full_key_and_path.lookup(34):\n",
    "        continue\n",
    "    else:\n",
    "        break\n",
    "        \n",
    "final_RDD = new_full_key_and_path.filter(lambda i:i[0]==34).map(final_RDD)\n",
    "\n",
    "answer = final_RDD.take(9)\n",
    "\n",
    "answer_list = []\n",
    "for i in answer:\n",
    "    if not i==34:\n",
    "        answer_list.append(i)\n",
    "\n",
    "no_space = str(answer_list)\n",
    "no_space = no_space.replace(\",34\",\"\")\n",
    "no_space = no_space.replace(\" \",\"\")\n",
    "no_space = no_space.replace('[','')\n",
    "no_space = no_space.replace(']','')\n",
    "print(no_space)"
   ]
  },
  {
   "cell_type": "code",
   "execution_count": null,
   "metadata": {
    "collapsed": true
   },
   "outputs": [],
   "source": []
  }
 ],
 "metadata": {
  "kernelspec": {
   "display_name": "Python 3",
   "language": "python",
   "name": "python3"
  },
  "language_info": {
   "codemirror_mode": {
    "name": "ipython",
    "version": 3
   },
   "file_extension": ".py",
   "mimetype": "text/x-python",
   "name": "python",
   "nbconvert_exporter": "python",
   "pygments_lexer": "ipython3",
   "version": "3.6.2"
  }
 },
 "nbformat": 4,
 "nbformat_minor": 2
}
